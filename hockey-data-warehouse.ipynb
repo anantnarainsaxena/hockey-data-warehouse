{
 "cells": [
  {
   "cell_type": "code",
   "execution_count": 33,
   "id": "1070bcf3",
   "metadata": {},
   "outputs": [
    {
     "ename": "ModuleNotFoundError",
     "evalue": "No module named 'ipython'",
     "output_type": "error",
     "traceback": [
      "\u001b[1;31m---------------------------------------------------------------------------\u001b[0m",
      "\u001b[1;31mModuleNotFoundError\u001b[0m                       Traceback (most recent call last)",
      "Cell \u001b[1;32mIn[33], line 3\u001b[0m\n\u001b[0;32m      1\u001b[0m \u001b[38;5;28;01mimport\u001b[39;00m \u001b[38;5;21;01mpandas\u001b[39;00m \u001b[38;5;28;01mas\u001b[39;00m \u001b[38;5;21;01mpd\u001b[39;00m\n\u001b[0;32m      2\u001b[0m \u001b[38;5;28;01mimport\u001b[39;00m \u001b[38;5;21;01mpyodbc\u001b[39;00m\n\u001b[1;32m----> 3\u001b[0m \u001b[38;5;28;01mimport\u001b[39;00m \u001b[38;5;21;01mipython\u001b[39;00m\n\u001b[0;32m      4\u001b[0m \u001b[38;5;28;01mfrom\u001b[39;00m \u001b[38;5;21;01mipython\u001b[39;00m\u001b[38;5;21;01m.\u001b[39;00m\u001b[38;5;21;01mdisplay\u001b[39;00m \u001b[38;5;28;01mimport\u001b[39;00m display\n",
      "\u001b[1;31mModuleNotFoundError\u001b[0m: No module named 'ipython'"
     ]
    }
   ],
   "source": [
    "import pandas as pd\n",
    "import pyodbc\n"
   ]
  },
  {
   "cell_type": "code",
   "execution_count": 3,
   "id": "102a7b40",
   "metadata": {},
   "outputs": [
    {
     "name": "stdout",
     "output_type": "stream",
     "text": [
      "   match_year match_month    match_level player_name club_name country_name  \\\n",
      "0        2010     January  International      Adrian       NaN  Netherlands   \n",
      "1        2010    February  International      Adrian       NaN  Netherlands   \n",
      "2        2010       March  International      Adrian       NaN  Netherlands   \n",
      "3        2010       April  International      Adrian       NaN  Netherlands   \n",
      "4        2010         May  International      Adrian       NaN  Netherlands   \n",
      "\n",
      "  player_position  jersey_no                  dob  nationality  ...  \\\n",
      "0              LW         88  1985-03-30 00:00:00  Netherlands  ...   \n",
      "1              LW         88  1985-03-30 00:00:00  Netherlands  ...   \n",
      "2              LW         88  1985-03-30 00:00:00  Netherlands  ...   \n",
      "3              LW         88  1985-03-30 00:00:00  Netherlands  ...   \n",
      "4              LW         88  1985-03-30 00:00:00  Netherlands  ...   \n",
      "\n",
      "   shots_o_ target  fouls_made  fouls_suffered  yellow_card  red_card  \\\n",
      "0               49           8               0            0         0   \n",
      "1               44           3               5            4         2   \n",
      "2               45          11               7            1         1   \n",
      "3               50           7               0            1         2   \n",
      "4               45          12               2            0         1   \n",
      "\n",
      "   goals_saved  goals_conceded  total_penalty  successful_penalty   salary  \n",
      "0           29              23              2                   1  2424.88  \n",
      "1           19              21              0                   0  2424.88  \n",
      "2           26              15              0                   0  2424.88  \n",
      "3           18              30              3                   3  2424.88  \n",
      "4           25              25              5                   3  2424.88  \n",
      "\n",
      "[5 rows x 24 columns]\n",
      "   match_year match_name league_name           club_name coach country_name  \\\n",
      "0        2010       Club     LA Liga   Atheletico Madrid   NaN          NaN   \n",
      "1        2010       Club     LA Liga   Atheletico Madrid   NaN          NaN   \n",
      "2        2010       Club     LA Liga   Atheletico Madrid   NaN          NaN   \n",
      "3        2010       Club     LA Liga   Atheletico Madrid   NaN          NaN   \n",
      "4        2010       Club     LA Liga   Atheletico Madrid   NaN          NaN   \n",
      "\n",
      "       manager  team_owner  appearances  wins  losts  drawn  clean_sheets  \\\n",
      "0  Alvin Lucas  Dean Green            8     7      0      1             5   \n",
      "1  Alvin Lucas  Dean Green            8     2      1      5             1   \n",
      "2  Alvin Lucas  Dean Green            8     6      1      1             3   \n",
      "3  Alvin Lucas  Dean Green            8     6      1      1             4   \n",
      "4  Alvin Lucas  Dean Green            8     4      3      1             3   \n",
      "\n",
      "   net_worth  \n",
      "0     745634  \n",
      "1     745634  \n",
      "2     745634  \n",
      "3     745634  \n",
      "4     745634  \n"
     ]
    }
   ],
   "source": [
    "# Cell 2: Load CSV files\n",
    "src1 = pd.read_csv(\"Hockey_Src1.csv\", encoding='latin1')\n",
    "src2 = pd.read_csv(\"Hockey_Src2.csv\", encoding='latin1')\n",
    "\n",
    "print(src1.head())\n",
    "print(src2.head())"
   ]
  },
  {
   "cell_type": "code",
   "execution_count": 5,
   "id": "e68dea30",
   "metadata": {},
   "outputs": [],
   "source": [
    "conn = pyodbc.connect(\n",
    "    'DRIVER={ODBC Driver 17 for SQL Server};'\n",
    "    'SERVER=LAPTOP-G2BQOO08\\\\SQLEXPRESS;'\n",
    "    'DATABASE=hockey;'\n",
    "    'Trusted_Connection=yes;'\n",
    "    'TrustServerCertificate=yes;'\n",
    ")\n",
    "cursor = conn.cursor()"
   ]
  },
  {
   "cell_type": "code",
   "execution_count": 8,
   "id": "a3f22d48",
   "metadata": {},
   "outputs": [
    {
     "data": {
      "text/plain": [
       "<pyodbc.Cursor at 0x21cade9f930>"
      ]
     },
     "execution_count": 8,
     "metadata": {},
     "output_type": "execute_result"
    }
   ],
   "source": [
    "cursor.execute(\"drop table if exists hockey_src1\")\n",
    "cursor.execute(\"drop table if exists hockey_src2\")"
   ]
  },
  {
   "cell_type": "code",
   "execution_count": 10,
   "id": "522f917a",
   "metadata": {},
   "outputs": [
    {
     "data": {
      "text/plain": [
       "<pyodbc.Cursor at 0x21cade9f930>"
      ]
     },
     "execution_count": 10,
     "metadata": {},
     "output_type": "execute_result"
    }
   ],
   "source": [
    "cursor.execute(\"\"\"\n",
    "create table hockey_src1(\n",
    "match_year int,\n",
    "match_month varchar(20),\n",
    "match_level varchar(50),\n",
    "player_name varchar(100),\n",
    "club_name varchar(100),\n",
    "country_name varchar(100),\n",
    "player_position varchar(20),\n",
    "jersey_no int,\n",
    "dob datetime,\n",
    "nationality varchar(100),\n",
    "appearances int,\n",
    "goals_scored int,\n",
    "goals_assist int,\n",
    "total_shots int,\n",
    "shots_o_target int,\n",
    "fouls_made int,\n",
    "fouls_suffered int,\n",
    "yellow_card int,\n",
    "red_card int,\n",
    "goals_saved int,\n",
    "goals_conceded int,\n",
    "total_penalty int,\n",
    "successful_penalty int,\n",
    "salary float\n",
    "\n",
    "\n",
    ")\n",
    "\n",
    "\n",
    "\n",
    "\"\"\")\n",
    "\n",
    "\n",
    "cursor.execute(\"\"\"\n",
    "CREATE TABLE hockey_src2 (\n",
    "    match_year INT,\n",
    "    match_name VARCHAR(50),\n",
    "    league_name VARCHAR(50),\n",
    "    club_name VARCHAR(100),\n",
    "    coach VARCHAR(100),\n",
    "    country_name VARCHAR(50),\n",
    "    manager VARCHAR(100),\n",
    "    team_owner VARCHAR(100),\n",
    "    appearances INT,\n",
    "    wins INT,\n",
    "    losts INT,\n",
    "    drawn INT,\n",
    "    clean_sheets INT,\n",
    "    net_worth FLOAT\n",
    ")\n",
    "\"\"\")\n",
    "\n"
   ]
  },
  {
   "cell_type": "code",
   "execution_count": 11,
   "id": "55ebb0cd",
   "metadata": {},
   "outputs": [],
   "source": [
    "conn.commit()"
   ]
  },
  {
   "cell_type": "code",
   "execution_count": 14,
   "id": "6b9a6fec",
   "metadata": {},
   "outputs": [],
   "source": [
    "src1['salary'] = pd.to_numeric(src1['salary'], errors='coerce')\n",
    "src1['dob'] = pd.to_datetime(src1['dob'], errors='coerce')\n",
    "src1['salary'].fillna(0, inplace=True)\n",
    "\n"
   ]
  },
  {
   "cell_type": "code",
   "execution_count": 15,
   "id": "59e510f0",
   "metadata": {},
   "outputs": [
    {
     "name": "stdout",
     "output_type": "stream",
     "text": [
      "match_year                     int64\n",
      "match_month                   object\n",
      "match_level                   object\n",
      "player_name                   object\n",
      "club_name                     object\n",
      "country_name                  object\n",
      "player_position               object\n",
      "jersey_no                      int64\n",
      "dob                   datetime64[ns]\n",
      "nationality                   object\n",
      "appearances                    int64\n",
      "goals_scored                   int64\n",
      "goals_assist                   int64\n",
      "total_shots                    int64\n",
      "shots_o_ target                int64\n",
      "fouls_made                     int64\n",
      "fouls_suffered                 int64\n",
      "yellow_card                    int64\n",
      "red_card                       int64\n",
      "goals_saved                    int64\n",
      "goals_conceded                 int64\n",
      "total_penalty                  int64\n",
      "successful_penalty             int64\n",
      "salary                       float64\n",
      "dtype: object\n"
     ]
    }
   ],
   "source": [
    "print(src1.dtypes)\n"
   ]
  },
  {
   "cell_type": "code",
   "execution_count": 18,
   "id": "13e6886c",
   "metadata": {},
   "outputs": [],
   "source": [
    "for _, row in src1.iterrows():\n",
    "    # Replace NaN with None to avoid invalid float values\n",
    "    row = tuple(None if pd.isna(x) else x for x in row)\n",
    "    cursor.execute(\"\"\"\n",
    "        INSERT INTO hockey_src1 VALUES (?,?,?,?,?,?,?,?,?,?,?,?,?,?,?,?,?,?,?,?,?,?,?,?)\n",
    "    \"\"\", row)\n",
    "for _, row in src2.iterrows():\n",
    "    row = tuple(None if pd.isna(x) else x for x in row)\n",
    "    cursor.execute(\"\"\"\n",
    "        INSERT INTO hockey_src2 VALUES (?,?,?,?,?,?,?,?,?,?,?,?,?,?)\n",
    "    \"\"\", row)\n",
    "\n"
   ]
  },
  {
   "cell_type": "code",
   "execution_count": 19,
   "id": "3621b139",
   "metadata": {},
   "outputs": [],
   "source": [
    "for _, row in src1.iterrows():\n",
    "    row = tuple(None if pd.isna(x) else x for x in row)\n",
    "    cursor.execute(\"\"\"\n",
    "        INSERT INTO hockey_src1 VALUES (?,?,?,?,?,?,?,?,?,?,?,?,?,?,?,?,?,?,?,?,?,?,?,?)\n",
    "    \"\"\", row)\n",
    "\n",
    "# Insert src2 data (14 values)\n",
    "for _, row in src2.iterrows():\n",
    "    row = tuple(None if pd.isna(x) else x for x in row)\n",
    "    cursor.execute(\"\"\"\n",
    "        INSERT INTO hockey_src2 VALUES (?,?,?,?,?,?,?,?,?,?,?,?,?,?)\n",
    "    \"\"\", row)\n",
    "    \n"
   ]
  },
  {
   "cell_type": "code",
   "execution_count": 27,
   "id": "65778310",
   "metadata": {},
   "outputs": [],
   "source": [
    "conn.commit()"
   ]
  },
  {
   "cell_type": "code",
   "execution_count": 29,
   "id": "d76de30e",
   "metadata": {},
   "outputs": [
    {
     "name": "stdout",
     "output_type": "stream",
     "text": [
      "(2010, 'January', 'International', 'Adrian', None, 'Netherlands', 'LW', 88, datetime.datetime(1985, 3, 30, 0, 0), 'Netherlands', 8, 8, 3, 67, 49, 8, 0, 0, 0, 29, 23, 2, 1, 2424.88)\n",
      "(2010, 'February', 'International', 'Adrian', None, 'Netherlands', 'LW', 88, datetime.datetime(1985, 3, 30, 0, 0), 'Netherlands', 8, 7, 8, 77, 44, 3, 5, 4, 2, 19, 21, 0, 0, 2424.88)\n",
      "(2010, 'March', 'International', 'Adrian', None, 'Netherlands', 'LW', 88, datetime.datetime(1985, 3, 30, 0, 0), 'Netherlands', 8, 7, 5, 59, 45, 11, 7, 1, 1, 26, 15, 0, 0, 2424.88)\n",
      "(2010, 'April', 'International', 'Adrian', None, 'Netherlands', 'LW', 88, datetime.datetime(1985, 3, 30, 0, 0), 'Netherlands', 8, 10, 8, 71, 50, 7, 0, 1, 2, 18, 30, 3, 3, 2424.88)\n",
      "(2010, 'May', 'International', 'Adrian', None, 'Netherlands', 'LW', 88, datetime.datetime(1985, 3, 30, 0, 0), 'Netherlands', 8, 10, 3, 80, 45, 12, 2, 0, 1, 25, 25, 5, 3, 2424.88)\n",
      "(2010, 'June', 'International', 'Adrian', None, 'Netherlands', 'LW', 88, datetime.datetime(1985, 3, 30, 0, 0), 'Netherlands', 8, 7, 8, 63, 35, 11, 8, 1, 1, 16, 16, 0, 0, 2424.88)\n",
      "(2010, 'July', 'International', 'Adrian', None, 'Netherlands', 'LW', 88, datetime.datetime(1985, 3, 30, 0, 0), 'Netherlands', 8, 7, 2, 75, 47, 7, 10, 4, 1, 22, 23, 0, 0, 2424.88)\n",
      "(2010, 'August', 'International', 'Adrian', None, 'Netherlands', 'LW', 88, datetime.datetime(1985, 3, 30, 0, 0), 'Netherlands', 8, 7, 7, 71, 31, 12, 10, 1, 0, 28, 20, 0, 0, 2424.88)\n",
      "(2010, 'September', 'International', 'Adrian', None, 'Netherlands', 'LW', 88, datetime.datetime(1985, 3, 30, 0, 0), 'Netherlands', 8, 8, 8, 54, 38, 7, 0, 4, 2, 17, 14, 2, 1, 2424.88)\n",
      "(2010, 'October', 'International', 'Adrian', None, 'Netherlands', 'LW', 88, datetime.datetime(1985, 3, 30, 0, 0), 'Netherlands', 8, 7, 1, 70, 39, 12, 8, 4, 2, 21, 25, 0, 0, 2424.88)\n"
     ]
    }
   ],
   "source": [
    "cursor = conn.cursor()\n",
    "cursor.execute(\"SELECT * FROM hockey_src1\")\n",
    "for _ in range(10):   # print first 10 rows only\n",
    "    row = cursor.fetchone()\n",
    "    if not row:\n",
    "        break\n",
    "    print(row)\n",
    "cursor.close()\n",
    "\n"
   ]
  },
  {
   "cell_type": "code",
   "execution_count": 30,
   "id": "0c247ce3",
   "metadata": {},
   "outputs": [
    {
     "name": "stdout",
     "output_type": "stream",
     "text": [
      "(2010, 'Club', 'LA Liga', ' Atheletico Madrid', None, None, 'Alvin Lucas', 'Dean Green', 8, 7, 0, 1, 5, 745634.0)\n",
      "(2010, 'Club', 'LA Liga', ' Atheletico Madrid', None, None, 'Alvin Lucas', 'Dean Green', 8, 2, 1, 5, 1, 745634.0)\n",
      "(2010, 'Club', 'LA Liga', ' Atheletico Madrid', None, None, 'Alvin Lucas', 'Dean Green', 8, 6, 1, 1, 3, 745634.0)\n",
      "(2010, 'Club', 'LA Liga', ' Atheletico Madrid', None, None, 'Alvin Lucas', 'Dean Green', 8, 6, 1, 1, 4, 745634.0)\n",
      "(2010, 'Club', 'LA Liga', ' Atheletico Madrid', None, None, 'Alvin Lucas', 'Dean Green', 8, 4, 3, 1, 3, 745634.0)\n",
      "(2010, 'Club', 'LA Liga', ' Atheletico Madrid', None, None, 'Alvin Lucas', 'Dean Green', 8, 2, 3, 3, 1, 745634.0)\n",
      "(2010, 'Club', 'LA Liga', ' Atheletico Madrid', None, None, 'Alvin Lucas', 'Dean Green', 8, 6, 0, 2, 4, 745634.0)\n",
      "(2010, 'Club', 'LA Liga', ' Atheletico Madrid', None, None, 'Alvin Lucas', 'Dean Green', 8, 5, 3, 0, 3, 745634.0)\n",
      "(2010, 'Club', 'LA Liga', ' Atheletico Madrid', None, None, 'Alvin Lucas', 'Dean Green', 8, 4, 2, 2, 1, 745634.0)\n",
      "(2010, 'Club', 'LA Liga', ' Atheletico Madrid', None, None, 'Alvin Lucas', 'Dean Green', 8, 7, 0, 1, 4, 745634.0)\n"
     ]
    }
   ],
   "source": [
    "cursor = conn.cursor()\n",
    "cursor.execute(\"SELECT * FROM hockey_src2\")\n",
    "\n",
    "for _ in range(10):  # print only first 10 rows\n",
    "    row = cursor.fetchone()\n",
    "    if not row:\n",
    "        break\n",
    "    print(row)\n",
    "\n",
    "cursor.close()\n"
   ]
  },
  {
   "cell_type": "code",
   "execution_count": 31,
   "id": "5613cc03",
   "metadata": {},
   "outputs": [
    {
     "name": "stdout",
     "output_type": "stream",
     "text": [
      "Requirement already satisfied: ipython in c:\\users\\anant\\appdata\\roaming\\python\\python311\\site-packages (8.12.0)\n",
      "Requirement already satisfied: backcall in c:\\users\\anant\\appdata\\roaming\\python\\python311\\site-packages (from ipython) (0.2.0)\n",
      "Requirement already satisfied: decorator in c:\\users\\anant\\appdata\\roaming\\python\\python311\\site-packages (from ipython) (5.1.1)\n",
      "Requirement already satisfied: jedi>=0.16 in c:\\users\\anant\\appdata\\roaming\\python\\python311\\site-packages (from ipython) (0.18.2)\n",
      "Requirement already satisfied: matplotlib-inline in c:\\users\\anant\\appdata\\roaming\\python\\python311\\site-packages (from ipython) (0.1.6)\n",
      "Requirement already satisfied: pickleshare in c:\\users\\anant\\appdata\\roaming\\python\\python311\\site-packages (from ipython) (0.7.5)\n",
      "Requirement already satisfied: prompt-toolkit!=3.0.37,<3.1.0,>=3.0.30 in c:\\users\\anant\\appdata\\roaming\\python\\python311\\site-packages (from ipython) (3.0.38)\n",
      "Requirement already satisfied: pygments>=2.4.0 in c:\\users\\anant\\appdata\\roaming\\python\\python311\\site-packages (from ipython) (2.14.0)\n",
      "Requirement already satisfied: stack-data in c:\\users\\anant\\appdata\\roaming\\python\\python311\\site-packages (from ipython) (0.6.2)\n",
      "Requirement already satisfied: traitlets>=5 in c:\\users\\anant\\appdata\\roaming\\python\\python311\\site-packages (from ipython) (5.9.0)\n",
      "Requirement already satisfied: colorama in c:\\users\\anant\\appdata\\roaming\\python\\python311\\site-packages (from ipython) (0.4.6)\n",
      "Requirement already satisfied: parso<0.9.0,>=0.8.0 in c:\\users\\anant\\appdata\\roaming\\python\\python311\\site-packages (from jedi>=0.16->ipython) (0.8.3)\n",
      "Requirement already satisfied: wcwidth in c:\\users\\anant\\appdata\\roaming\\python\\python311\\site-packages (from prompt-toolkit!=3.0.37,<3.1.0,>=3.0.30->ipython) (0.2.6)\n",
      "Requirement already satisfied: executing>=1.2.0 in c:\\users\\anant\\appdata\\roaming\\python\\python311\\site-packages (from stack-data->ipython) (1.2.0)\n",
      "Requirement already satisfied: asttokens>=2.1.0 in c:\\users\\anant\\appdata\\roaming\\python\\python311\\site-packages (from stack-data->ipython) (2.2.1)\n",
      "Requirement already satisfied: pure-eval in c:\\users\\anant\\appdata\\roaming\\python\\python311\\site-packages (from stack-data->ipython) (0.2.2)\n",
      "Requirement already satisfied: six in c:\\users\\anant\\appdata\\roaming\\python\\python311\\site-packages (from asttokens>=2.1.0->stack-data->ipython) (1.16.0)\n",
      "Note: you may need to restart the kernel to use updated packages.\n"
     ]
    }
   ],
   "source": [
    "pip install ipython"
   ]
  },
  {
   "cell_type": "code",
   "execution_count": 34,
   "id": "ed0ef808",
   "metadata": {},
   "outputs": [
    {
     "ename": "ModuleNotFoundError",
     "evalue": "No module named 'ipython'",
     "output_type": "error",
     "traceback": [
      "\u001b[1;31m---------------------------------------------------------------------------\u001b[0m",
      "\u001b[1;31mModuleNotFoundError\u001b[0m                       Traceback (most recent call last)",
      "Cell \u001b[1;32mIn[34], line 1\u001b[0m\n\u001b[1;32m----> 1\u001b[0m \u001b[38;5;28;01mfrom\u001b[39;00m \u001b[38;5;21;01mipython\u001b[39;00m\u001b[38;5;21;01m.\u001b[39;00m\u001b[38;5;21;01mdisplay\u001b[39;00m \u001b[38;5;28;01mimport\u001b[39;00m display\n",
      "\u001b[1;31mModuleNotFoundError\u001b[0m: No module named 'ipython'"
     ]
    }
   ],
   "source": []
  },
  {
   "cell_type": "code",
   "execution_count": null,
   "id": "aa7f1a21",
   "metadata": {},
   "outputs": [],
   "source": []
  }
 ],
 "metadata": {
  "kernelspec": {
   "display_name": "Python 3 (ipykernel)",
   "language": "python",
   "name": "python3"
  },
  "language_info": {
   "codemirror_mode": {
    "name": "ipython",
    "version": 3
   },
   "file_extension": ".py",
   "mimetype": "text/x-python",
   "name": "python",
   "nbconvert_exporter": "python",
   "pygments_lexer": "ipython3",
   "version": "3.11.5"
  }
 },
 "nbformat": 4,
 "nbformat_minor": 5
}
